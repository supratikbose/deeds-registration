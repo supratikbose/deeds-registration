{
 "cells": [
  {
   "cell_type": "code",
   "execution_count": 1,
   "metadata": {},
   "outputs": [
    {
     "name": "stdout",
     "output_type": "stream",
     "text": [
      "/mnt/data/supratik/deeds-registration/deeds/../samples/\n",
      "fixed_PATH /mnt/data/supratik/deeds-registration/deeds/../samples/fixed.nii.gz\n",
      "moving_PATH /mnt/data/supratik/deeds-registration/deeds/../samples/moving.nii.gz\n"
     ]
    }
   ],
   "source": [
    "#Get location of fixed and movimg image\n",
    "#Customize for your own data\n",
    "import os \n",
    "notebook_path = os.getcwd()\n",
    "samplesPath = os.path.join(notebook_path, '../samples/')\n",
    "print(samplesPath)\n",
    "fixed_PATH = os.path.join(samplesPath, 'fixed.nii.gz')\n",
    "assert os.path.exists(fixed_PATH), f'No file at {fixed_PATH}'\n",
    "print(f'fixed_PATH {fixed_PATH}')\n",
    "moving_PATH = os.path.join(samplesPath, 'moving.nii.gz')\n",
    "assert os.path.exists(moving_PATH), f'No file at {moving_PATH}'\n",
    "print(f'moving_PATH {moving_PATH}')"
   ]
  },
  {
   "cell_type": "code",
   "execution_count": 2,
   "metadata": {},
   "outputs": [
    {
     "name": "stdout",
     "output_type": "stream",
     "text": [
      "Starting registration\n",
      "=============================================================\n",
      "Input shape: (256, 256, 256)\n",
      "defVectorResampledToVolume_in: True\n",
      "Output shape: (256,256,256)\n",
      "Starting with identity transform.\n",
      "MIND STEPS: 3 3 2 2 1\n",
      "==========================================================\n",
      "Level 0 grid=8 with sizes: 32x32x32 hw=8 quant=5\n",
      "==========================================================\n",
      "TMdDSTMdDS\n",
      "Time: MIND=3.46351, data=4.14374, MST-reg=4.28533, transf.=4.02048\n",
      " speed=3.81986e+07 dof/s\n",
      "std(J)=0.13 (J<0)=0e-7  SSD before registration: 0.00275497 and after 0.00275497\n",
      "\n",
      "==========================================================\n",
      "Level 1 grid=7 with sizes: 36x36x36 hw=7 quant=4\n",
      "==========================================================\n",
      "TMdDSTMdDS\n",
      "Time: MIND=1.68224, data=4.25115, MST-reg=4.51739, transf.=4.07303\n",
      " speed=3.59157e+07 dof/s\n",
      "std(J)=0.11 (J<0)=0e-7  SSD before registration: 0.00275497 and after 0.0015708\n",
      "\n",
      "==========================================================\n",
      "Level 2 grid=6 with sizes: 42x42x42 hw=6 quant=3\n",
      "==========================================================\n",
      "TMdDSTMdDS\n",
      "Time: MIND=3.35499, data=2.33664, MST-reg=3.91651, transf.=4.07389\n",
      " speed=5.20606e+07 dof/s\n",
      "std(J)=0.12 (J<0)=0e-7  SSD before registration: 0.00275497 and after 0.00141434\n",
      "\n",
      "==========================================================\n",
      "Level 3 grid=5 with sizes: 51x51x51 hw=5 quant=2\n",
      "==========================================================\n",
      "TMdDSTMdDS\n",
      "Time: MIND=1.61941, data=2.03851, MST-reg=4.23107, transf.=4.0422\n",
      " speed=5.63223e+07 dof/s\n",
      "std(J)=0.12 (J<0)=0e-7  SSD before registration: 0.00275497 and after 0.00110846\n",
      "\n",
      "==========================================================\n",
      "Level 4 grid=4 with sizes: 64x64x64 hw=4 quant=1\n",
      "==========================================================\n",
      "TMdDSTMdDS\n",
      "Time: MIND=3.28028, data=2.4234, MST-reg=4.56804, transf.=4.13119\n",
      " speed=5.46677e+07 dof/s\n",
      "std(J)=0.11 (J<0)=0e-7  SSD before registration: 0.00275497 and after 0.000942535\n",
      "\n",
      "Flow stat: m*n*o 16777216 sz 16777216 m1*n1*o1 262144 sz1 262144\n",
      "defVectorResampledToVolume_in 1SSD before registration: 0.00275497 and after 0.000660069\n",
      "Finished. Total time: 71.4303 sec.\n"
     ]
    }
   ],
   "source": [
    "#Install : pip install git+https://github.com/supratikbose/deeds-registration\n",
    "from deeds import registration\n",
    "import SimpleITK as sitk\n",
    "#Volumes are expected to be have identical dimension and identical isometric pixel spacing \n",
    "fixed_vol_np = sitk.GetArrayFromImage(sitk.ReadImage(fixed_PATH))\n",
    "moving_vol_np = sitk.GetArrayFromImage(sitk.ReadImage(moving_PATH))\n",
    "#Invoke Deeds\n",
    "moved_vol_np, flow_3channelUVW_np, flow_flattened_out_np, defVecShape =\\\n",
    "    registration(moving_vol_np, fixed_vol_np, defVectorResampledToVolume_in=True,alpha=1.6, levels=5, verbose=True)\n",
    "\n",
    "#Interpreting input and result\n",
    "#In the input and result volumes, i.e., in  moving_vol_np, fixed_vol_np and in \n",
    "#moved_vol_np we assume the 1st dimension is depth(Z of size o) followed by \n",
    "#height(Y of size n) and finally width(X of size m). Deformation vector is \n",
    "# also given out in 3-channel flow_3channelUVW_np where channels are of the \n",
    "# order [U,V,W]\n",
    "\n",
    "#Examining deeds/libs/dataCostD.h/warpAffine() we interprete U,V,W as follows:\n",
    "# During warping, fastest (innermost) loop is along W (size m); next \n",
    "# along H (size n) and finally along D (size o). Moreover\n",
    "#U modifies x with x limit betwee 0 and N!! so U is displacement along 2nd dimension!! i.e., Height\n",
    "# V modifies y with y limit betwee 0 and M!! so V is displacement along 3rd dimension!! i.e., Width\n",
    "# W modifies z with z limit betwee 0 and O!! so W is displacement along 1st dimension!! i.e., Depth\n",
    "\n",
    "#If defVectorResampledToVolume_in is false, it is of lower resolution than the input / output \n",
    "# volume. It is the same output whose flattened version is deformations.dat file.\n",
    "# If defVectorResampledToVolume_in flag is true, flow_3channelUVW_np, and \n",
    "# flow_flattened_out_np are in full volume dimension.\n",
    "\n"
   ]
  },
  {
   "cell_type": "code",
   "execution_count": 3,
   "metadata": {},
   "outputs": [],
   "source": [
    "#Helper function to deform volume using DVF returned by DEEDS\n",
    "\n",
    "#vGiven deformation vector output flow_3channelUVW_np at full resolution (i.e. \n",
    "# defVectorResampledToVolume_in=True), one can use MONAI (1.1) to warp the \n",
    "#vmoving image to generate moved image outside Deeds as below:\n",
    "\n",
    "def deformUsingDeedsDefVecAndMonaiWarp(vol_M_DHW, flow_3channelUVW_np):\n",
    "\n",
    "    import torch\n",
    "    from monai.networks.blocks import Warp as monai_warp\n",
    "    a_monai_warp_transformer = monai_warp(mode='bilinear', padding_mode='border')\n",
    "    \n",
    "    vol_M_torch = torch.from_numpy(vol_M_DHW.astype('float32'))\n",
    "    #Get u,v,w components from deeds_defVec\n",
    "    u= torch.from_numpy(flow_3channelUVW_np[0,...].astype('float32'))\n",
    "    v= torch.from_numpy(flow_3channelUVW_np[1,...].astype('float32'))\n",
    "    w= torch.from_numpy(flow_3channelUVW_np[2,...].astype('float32'))\n",
    "\n",
    "    #Add batch channel\n",
    "    vol_M_torch_bc = vol_M_torch.unsqueeze(0).unsqueeze(0)\n",
    "    #NOTE Since volume is in DHW, and from deeds we know w along D, u along H and v along w \n",
    "    #we need to pack deformation field in same DHW order. We also add batch and channel\n",
    "    ddf_bc = torch.stack([w,u,v], dim=0).unsqueeze(0)\n",
    "\n",
    "    #Apply Monai warp\n",
    "    vol_MStarLocalDeeds_monai_torch = a_monai_warp_transformer(vol_M_torch_bc,  ddf_bc)\n",
    "    return vol_MStarLocalDeeds_monai_torch.squeeze().detach().cpu().numpy().astype('float')"
   ]
  },
  {
   "cell_type": "code",
   "execution_count": 4,
   "metadata": {},
   "outputs": [
    {
     "name": "stderr",
     "output_type": "stream",
     "text": [
      "/opt/conda/envs/cloneMMIPython/lib/python3.9/site-packages/requests/__init__.py:102: RequestsDependencyWarning: urllib3 (2.0.4) or chardet (None)/charset_normalizer (3.2.0) doesn't match a supported version!\n",
      "  warnings.warn(\"urllib3 ({}) or chardet ({})/charset_normalizer ({}) doesn't match a supported \"\n",
      "/opt/conda/envs/cloneMMIPython/lib/python3.9/site-packages/monai/networks/blocks/warp.py:72: UserWarning: monai.networks.blocks.Warp: Using PyTorch native grid_sample.\n",
      "  warnings.warn(\"monai.networks.blocks.Warp: Using PyTorch native grid_sample.\")\n"
     ]
    },
    {
     "name": "stdout",
     "output_type": "stream",
     "text": [
      "mse before deformation 0.002815\n",
      "mse after deformation using Deeds 0.000678\n"
     ]
    },
    {
     "name": "stderr",
     "output_type": "stream",
     "text": [
      "/opt/conda/envs/cloneMMIPython/lib/python3.9/site-packages/sewar/utils.py:18: UserWarning: Supplied images have different dtypes float32 and float64\n",
      "  warnings.warn(msg)\n"
     ]
    },
    {
     "name": "stdout",
     "output_type": "stream",
     "text": [
      "mse_afterLocalDef_Deeds_monai 0.000678\n",
      " between two deformed volumes 0.0\n"
     ]
    }
   ],
   "source": [
    "#Use  deformation vector returned by DEEDS to deform moving volume \"locally\" \n",
    "# and check mean square error (mse)\n",
    "\n",
    "#Install : pip install sewar\n",
    "from sewar.full_ref import mse\n",
    "\n",
    "locally_moved_vol_np = deformUsingDeedsDefVecAndMonaiWarp(vol_M_DHW=moving_vol_np, flow_3channelUVW_np=flow_3channelUVW_np)\n",
    "\n",
    "#MSE before deformation\n",
    "mse_b4Def = mse(fixed_vol_np,  moving_vol_np)\n",
    "print(f'mse before deformation {round(mse_b4Def,6)}') #mse_b4Def 0.002815\n",
    "#MSE after deformation using DEEDS\n",
    "mse_afterDef_Deeds = mse(fixed_vol_np,  moved_vol_np)\n",
    "print(f'mse after deformation using Deeds {round(mse_afterDef_Deeds,6)}') #mse_afterDef_Deeds 0.000678\n",
    "#MSE after local deformation using DVF returned by DEEDS\n",
    "mse_afterLocalDef_Deeds_monai = mse(fixed_vol_np,  locally_moved_vol_np)\n",
    "print(f'mse_afterLocalDef_Deeds_monai {round(mse_afterLocalDef_Deeds_monai,6)}') #mse_afterLocalDef_Deeds_monai 0.000678\n",
    "#MSE between two deformed volumes (by DEEDS and by local deformation using DVF returned by DEEDS)\n",
    "mse_between_two_methods = mse(moved_vol_np,  locally_moved_vol_np)\n",
    "print(f' between two deformed volumes {round(mse_between_two_methods,6)}') #mse_between_two_methods 0.0"
   ]
  }
 ],
 "metadata": {
  "kernelspec": {
   "display_name": "baseImcutVxm",
   "language": "python",
   "name": "python3"
  },
  "language_info": {
   "codemirror_mode": {
    "name": "ipython",
    "version": 3
   },
   "file_extension": ".py",
   "mimetype": "text/x-python",
   "name": "python",
   "nbconvert_exporter": "python",
   "pygments_lexer": "ipython3",
   "version": "3.9.18"
  },
  "orig_nbformat": 4
 },
 "nbformat": 4,
 "nbformat_minor": 2
}
